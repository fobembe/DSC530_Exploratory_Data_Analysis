{
 "cells": [
  {
   "cell_type": "code",
   "execution_count": 1,
   "metadata": {},
   "outputs": [],
   "source": [
    "import pandas as pd\n",
    "import seaborn as sns\n",
    "import statsmodels.formula.api as smf\n",
    "import numpy as np\n",
    "import matplotlib.pyplot as plt"
   ]
  },
  {
   "cell_type": "code",
   "execution_count": 2,
   "metadata": {},
   "outputs": [],
   "source": [
    "import stargazer\n",
    "from IPython.core.display import HTML"
   ]
  },
  {
   "cell_type": "code",
   "execution_count": 3,
   "metadata": {},
   "outputs": [
    {
     "data": {
      "text/html": [
       "<div>\n",
       "<style scoped>\n",
       "    .dataframe tbody tr th:only-of-type {\n",
       "        vertical-align: middle;\n",
       "    }\n",
       "\n",
       "    .dataframe tbody tr th {\n",
       "        vertical-align: top;\n",
       "    }\n",
       "\n",
       "    .dataframe thead th {\n",
       "        text-align: right;\n",
       "    }\n",
       "</style>\n",
       "<table border=\"1\" class=\"dataframe\">\n",
       "  <thead>\n",
       "    <tr style=\"text-align: right;\">\n",
       "      <th></th>\n",
       "      <th>CustomerKey</th>\n",
       "      <th>SalesQuantity</th>\n",
       "      <th>UnitPrice</th>\n",
       "      <th>Education</th>\n",
       "      <th>Gender</th>\n",
       "      <th>MaritalStatus</th>\n",
       "      <th>YearlyIncome</th>\n",
       "      <th>Occupation</th>\n",
       "      <th>SalesAmount</th>\n",
       "      <th>Sum of DiscountAmount</th>\n",
       "      <th>Age</th>\n",
       "    </tr>\n",
       "  </thead>\n",
       "  <tbody>\n",
       "    <tr>\n",
       "      <th>0</th>\n",
       "      <td>2</td>\n",
       "      <td>38</td>\n",
       "      <td>480.4</td>\n",
       "      <td>Bachelors</td>\n",
       "      <td>M</td>\n",
       "      <td>S</td>\n",
       "      <td>60000</td>\n",
       "      <td>Professional</td>\n",
       "      <td>15902</td>\n",
       "      <td>2355</td>\n",
       "      <td>36</td>\n",
       "    </tr>\n",
       "    <tr>\n",
       "      <th>1</th>\n",
       "      <td>3</td>\n",
       "      <td>38</td>\n",
       "      <td>472.3</td>\n",
       "      <td>Bachelors</td>\n",
       "      <td>M</td>\n",
       "      <td>M</td>\n",
       "      <td>60000</td>\n",
       "      <td>Professional</td>\n",
       "      <td>15650</td>\n",
       "      <td>2297</td>\n",
       "      <td>36</td>\n",
       "    </tr>\n",
       "    <tr>\n",
       "      <th>2</th>\n",
       "      <td>97</td>\n",
       "      <td>38</td>\n",
       "      <td>486.4</td>\n",
       "      <td>Bachelors</td>\n",
       "      <td>M</td>\n",
       "      <td>M</td>\n",
       "      <td>60000</td>\n",
       "      <td>Professional</td>\n",
       "      <td>16108</td>\n",
       "      <td>2375</td>\n",
       "      <td>39</td>\n",
       "    </tr>\n",
       "    <tr>\n",
       "      <th>3</th>\n",
       "      <td>100</td>\n",
       "      <td>38</td>\n",
       "      <td>488.5</td>\n",
       "      <td>Bachelors</td>\n",
       "      <td>M</td>\n",
       "      <td>M</td>\n",
       "      <td>60000</td>\n",
       "      <td>Professional</td>\n",
       "      <td>16172</td>\n",
       "      <td>2391</td>\n",
       "      <td>40</td>\n",
       "    </tr>\n",
       "    <tr>\n",
       "      <th>4</th>\n",
       "      <td>444</td>\n",
       "      <td>38</td>\n",
       "      <td>486.6</td>\n",
       "      <td>Bachelors</td>\n",
       "      <td>F</td>\n",
       "      <td>S</td>\n",
       "      <td>60000</td>\n",
       "      <td>Professional</td>\n",
       "      <td>16156</td>\n",
       "      <td>2334</td>\n",
       "      <td>25</td>\n",
       "    </tr>\n",
       "  </tbody>\n",
       "</table>\n",
       "</div>"
      ],
      "text/plain": [
       "   CustomerKey  SalesQuantity  UnitPrice  Education Gender MaritalStatus  \\\n",
       "0            2             38      480.4  Bachelors      M             S   \n",
       "1            3             38      472.3  Bachelors      M             M   \n",
       "2           97             38      486.4  Bachelors      M             M   \n",
       "3          100             38      488.5  Bachelors      M             M   \n",
       "4          444             38      486.6  Bachelors      F             S   \n",
       "\n",
       "   YearlyIncome    Occupation  SalesAmount  Sum of DiscountAmount  Age  \n",
       "0         60000  Professional        15902                   2355   36  \n",
       "1         60000  Professional        15650                   2297   36  \n",
       "2         60000  Professional        16108                   2375   39  \n",
       "3         60000  Professional        16172                   2391   40  \n",
       "4         60000  Professional        16156                   2334   25  "
      ]
     },
     "execution_count": 3,
     "metadata": {},
     "output_type": "execute_result"
    }
   ],
   "source": [
    "data = pd.read_csv(\"contodata.csv\")\n",
    "data.head()"
   ]
  },
  {
   "cell_type": "code",
   "execution_count": 4,
   "metadata": {},
   "outputs": [],
   "source": [
    "df = data[[\"SalesQuantity\",\"UnitPrice\",\"Education\",\"Gender\",\"MaritalStatus\",\"YearlyIncome\",\"SalesAmount\",\"Sum of DiscountAmount\",\"Age\"]]"
   ]
  },
  {
   "cell_type": "code",
   "execution_count": 5,
   "metadata": {},
   "outputs": [
    {
     "data": {
      "text/html": [
       "<div>\n",
       "<style scoped>\n",
       "    .dataframe tbody tr th:only-of-type {\n",
       "        vertical-align: middle;\n",
       "    }\n",
       "\n",
       "    .dataframe tbody tr th {\n",
       "        vertical-align: top;\n",
       "    }\n",
       "\n",
       "    .dataframe thead th {\n",
       "        text-align: right;\n",
       "    }\n",
       "</style>\n",
       "<table border=\"1\" class=\"dataframe\">\n",
       "  <thead>\n",
       "    <tr style=\"text-align: right;\">\n",
       "      <th></th>\n",
       "      <th>SalesQuantity</th>\n",
       "      <th>UnitPrice</th>\n",
       "      <th>Education</th>\n",
       "      <th>Gender</th>\n",
       "      <th>MaritalStatus</th>\n",
       "      <th>YearlyIncome</th>\n",
       "      <th>SalesAmount</th>\n",
       "      <th>Sum of DiscountAmount</th>\n",
       "      <th>Age</th>\n",
       "    </tr>\n",
       "  </thead>\n",
       "  <tbody>\n",
       "    <tr>\n",
       "      <th>0</th>\n",
       "      <td>38</td>\n",
       "      <td>480.4</td>\n",
       "      <td>Bachelors</td>\n",
       "      <td>M</td>\n",
       "      <td>S</td>\n",
       "      <td>60000</td>\n",
       "      <td>15902</td>\n",
       "      <td>2355</td>\n",
       "      <td>36</td>\n",
       "    </tr>\n",
       "    <tr>\n",
       "      <th>1</th>\n",
       "      <td>38</td>\n",
       "      <td>472.3</td>\n",
       "      <td>Bachelors</td>\n",
       "      <td>M</td>\n",
       "      <td>M</td>\n",
       "      <td>60000</td>\n",
       "      <td>15650</td>\n",
       "      <td>2297</td>\n",
       "      <td>36</td>\n",
       "    </tr>\n",
       "    <tr>\n",
       "      <th>2</th>\n",
       "      <td>38</td>\n",
       "      <td>486.4</td>\n",
       "      <td>Bachelors</td>\n",
       "      <td>M</td>\n",
       "      <td>M</td>\n",
       "      <td>60000</td>\n",
       "      <td>16108</td>\n",
       "      <td>2375</td>\n",
       "      <td>39</td>\n",
       "    </tr>\n",
       "    <tr>\n",
       "      <th>3</th>\n",
       "      <td>38</td>\n",
       "      <td>488.5</td>\n",
       "      <td>Bachelors</td>\n",
       "      <td>M</td>\n",
       "      <td>M</td>\n",
       "      <td>60000</td>\n",
       "      <td>16172</td>\n",
       "      <td>2391</td>\n",
       "      <td>40</td>\n",
       "    </tr>\n",
       "    <tr>\n",
       "      <th>4</th>\n",
       "      <td>38</td>\n",
       "      <td>486.6</td>\n",
       "      <td>Bachelors</td>\n",
       "      <td>F</td>\n",
       "      <td>S</td>\n",
       "      <td>60000</td>\n",
       "      <td>16156</td>\n",
       "      <td>2334</td>\n",
       "      <td>25</td>\n",
       "    </tr>\n",
       "  </tbody>\n",
       "</table>\n",
       "</div>"
      ],
      "text/plain": [
       "   SalesQuantity  UnitPrice  Education Gender MaritalStatus  YearlyIncome  \\\n",
       "0             38      480.4  Bachelors      M             S         60000   \n",
       "1             38      472.3  Bachelors      M             M         60000   \n",
       "2             38      486.4  Bachelors      M             M         60000   \n",
       "3             38      488.5  Bachelors      M             M         60000   \n",
       "4             38      486.6  Bachelors      F             S         60000   \n",
       "\n",
       "   SalesAmount  Sum of DiscountAmount  Age  \n",
       "0        15902                   2355   36  \n",
       "1        15650                   2297   36  \n",
       "2        16108                   2375   39  \n",
       "3        16172                   2391   40  \n",
       "4        16156                   2334   25  "
      ]
     },
     "execution_count": 5,
     "metadata": {},
     "output_type": "execute_result"
    }
   ],
   "source": [
    "df.head()"
   ]
  },
  {
   "cell_type": "code",
   "execution_count": 6,
   "metadata": {},
   "outputs": [
    {
     "data": {
      "text/html": [
       "<div>\n",
       "<style scoped>\n",
       "    .dataframe tbody tr th:only-of-type {\n",
       "        vertical-align: middle;\n",
       "    }\n",
       "\n",
       "    .dataframe tbody tr th {\n",
       "        vertical-align: top;\n",
       "    }\n",
       "\n",
       "    .dataframe thead th {\n",
       "        text-align: right;\n",
       "    }\n",
       "</style>\n",
       "<table border=\"1\" class=\"dataframe\">\n",
       "  <thead>\n",
       "    <tr style=\"text-align: right;\">\n",
       "      <th></th>\n",
       "      <th>SalesQuantity</th>\n",
       "      <th>UnitPrice</th>\n",
       "      <th>YearlyIncome</th>\n",
       "      <th>SalesAmount</th>\n",
       "      <th>Sum of DiscountAmount</th>\n",
       "      <th>Age</th>\n",
       "    </tr>\n",
       "  </thead>\n",
       "  <tbody>\n",
       "    <tr>\n",
       "      <th>count</th>\n",
       "      <td>18483.000000</td>\n",
       "      <td>18483.000000</td>\n",
       "      <td>18483.000000</td>\n",
       "      <td>18483.000000</td>\n",
       "      <td>18483.000000</td>\n",
       "      <td>18483.000000</td>\n",
       "    </tr>\n",
       "    <tr>\n",
       "      <th>mean</th>\n",
       "      <td>52.569009</td>\n",
       "      <td>324.082838</td>\n",
       "      <td>57304.009089</td>\n",
       "      <td>14110.757723</td>\n",
       "      <td>1299.443976</td>\n",
       "      <td>41.549857</td>\n",
       "    </tr>\n",
       "    <tr>\n",
       "      <th>std</th>\n",
       "      <td>23.550477</td>\n",
       "      <td>136.894157</td>\n",
       "      <td>32285.819419</td>\n",
       "      <td>6400.045086</td>\n",
       "      <td>877.636299</td>\n",
       "      <td>11.334963</td>\n",
       "    </tr>\n",
       "    <tr>\n",
       "      <th>min</th>\n",
       "      <td>30.000000</td>\n",
       "      <td>94.200000</td>\n",
       "      <td>10000.000000</td>\n",
       "      <td>2617.000000</td>\n",
       "      <td>243.000000</td>\n",
       "      <td>21.000000</td>\n",
       "    </tr>\n",
       "    <tr>\n",
       "      <th>25%</th>\n",
       "      <td>37.000000</td>\n",
       "      <td>126.300000</td>\n",
       "      <td>30000.000000</td>\n",
       "      <td>10799.000000</td>\n",
       "      <td>682.000000</td>\n",
       "      <td>33.000000</td>\n",
       "    </tr>\n",
       "    <tr>\n",
       "      <th>50%</th>\n",
       "      <td>40.000000</td>\n",
       "      <td>374.000000</td>\n",
       "      <td>60000.000000</td>\n",
       "      <td>13789.000000</td>\n",
       "      <td>933.000000</td>\n",
       "      <td>40.000000</td>\n",
       "    </tr>\n",
       "    <tr>\n",
       "      <th>75%</th>\n",
       "      <td>67.000000</td>\n",
       "      <td>404.200000</td>\n",
       "      <td>70000.000000</td>\n",
       "      <td>15986.500000</td>\n",
       "      <td>2081.000000</td>\n",
       "      <td>49.000000</td>\n",
       "    </tr>\n",
       "    <tr>\n",
       "      <th>max</th>\n",
       "      <td>127.000000</td>\n",
       "      <td>579.400000</td>\n",
       "      <td>170000.000000</td>\n",
       "      <td>32128.000000</td>\n",
       "      <td>4027.000000</td>\n",
       "      <td>94.000000</td>\n",
       "    </tr>\n",
       "  </tbody>\n",
       "</table>\n",
       "</div>"
      ],
      "text/plain": [
       "       SalesQuantity     UnitPrice   YearlyIncome   SalesAmount  \\\n",
       "count   18483.000000  18483.000000   18483.000000  18483.000000   \n",
       "mean       52.569009    324.082838   57304.009089  14110.757723   \n",
       "std        23.550477    136.894157   32285.819419   6400.045086   \n",
       "min        30.000000     94.200000   10000.000000   2617.000000   \n",
       "25%        37.000000    126.300000   30000.000000  10799.000000   \n",
       "50%        40.000000    374.000000   60000.000000  13789.000000   \n",
       "75%        67.000000    404.200000   70000.000000  15986.500000   \n",
       "max       127.000000    579.400000  170000.000000  32128.000000   \n",
       "\n",
       "       Sum of DiscountAmount           Age  \n",
       "count           18483.000000  18483.000000  \n",
       "mean             1299.443976     41.549857  \n",
       "std               877.636299     11.334963  \n",
       "min               243.000000     21.000000  \n",
       "25%               682.000000     33.000000  \n",
       "50%               933.000000     40.000000  \n",
       "75%              2081.000000     49.000000  \n",
       "max              4027.000000     94.000000  "
      ]
     },
     "execution_count": 6,
     "metadata": {},
     "output_type": "execute_result"
    }
   ],
   "source": [
    "df.describe()"
   ]
  },
  {
   "cell_type": "code",
   "execution_count": 7,
   "metadata": {},
   "outputs": [
    {
     "data": {
      "text/html": [
       "<div>\n",
       "<style scoped>\n",
       "    .dataframe tbody tr th:only-of-type {\n",
       "        vertical-align: middle;\n",
       "    }\n",
       "\n",
       "    .dataframe tbody tr th {\n",
       "        vertical-align: top;\n",
       "    }\n",
       "\n",
       "    .dataframe thead th {\n",
       "        text-align: right;\n",
       "    }\n",
       "</style>\n",
       "<table border=\"1\" class=\"dataframe\">\n",
       "  <thead>\n",
       "    <tr style=\"text-align: right;\">\n",
       "      <th></th>\n",
       "      <th>Quantity</th>\n",
       "      <th>UnitPrice</th>\n",
       "      <th>Education</th>\n",
       "      <th>Gender</th>\n",
       "      <th>MaritalStatus</th>\n",
       "      <th>Income</th>\n",
       "      <th>Sales</th>\n",
       "      <th>Discount</th>\n",
       "      <th>Age</th>\n",
       "    </tr>\n",
       "  </thead>\n",
       "  <tbody>\n",
       "    <tr>\n",
       "      <th>0</th>\n",
       "      <td>38</td>\n",
       "      <td>480.4</td>\n",
       "      <td>Bachelors</td>\n",
       "      <td>M</td>\n",
       "      <td>S</td>\n",
       "      <td>60000</td>\n",
       "      <td>15902</td>\n",
       "      <td>2355</td>\n",
       "      <td>36</td>\n",
       "    </tr>\n",
       "    <tr>\n",
       "      <th>1</th>\n",
       "      <td>38</td>\n",
       "      <td>472.3</td>\n",
       "      <td>Bachelors</td>\n",
       "      <td>M</td>\n",
       "      <td>M</td>\n",
       "      <td>60000</td>\n",
       "      <td>15650</td>\n",
       "      <td>2297</td>\n",
       "      <td>36</td>\n",
       "    </tr>\n",
       "    <tr>\n",
       "      <th>2</th>\n",
       "      <td>38</td>\n",
       "      <td>486.4</td>\n",
       "      <td>Bachelors</td>\n",
       "      <td>M</td>\n",
       "      <td>M</td>\n",
       "      <td>60000</td>\n",
       "      <td>16108</td>\n",
       "      <td>2375</td>\n",
       "      <td>39</td>\n",
       "    </tr>\n",
       "    <tr>\n",
       "      <th>3</th>\n",
       "      <td>38</td>\n",
       "      <td>488.5</td>\n",
       "      <td>Bachelors</td>\n",
       "      <td>M</td>\n",
       "      <td>M</td>\n",
       "      <td>60000</td>\n",
       "      <td>16172</td>\n",
       "      <td>2391</td>\n",
       "      <td>40</td>\n",
       "    </tr>\n",
       "    <tr>\n",
       "      <th>4</th>\n",
       "      <td>38</td>\n",
       "      <td>486.6</td>\n",
       "      <td>Bachelors</td>\n",
       "      <td>F</td>\n",
       "      <td>S</td>\n",
       "      <td>60000</td>\n",
       "      <td>16156</td>\n",
       "      <td>2334</td>\n",
       "      <td>25</td>\n",
       "    </tr>\n",
       "  </tbody>\n",
       "</table>\n",
       "</div>"
      ],
      "text/plain": [
       "   Quantity  UnitPrice  Education Gender MaritalStatus  Income  Sales  \\\n",
       "0        38      480.4  Bachelors      M             S   60000  15902   \n",
       "1        38      472.3  Bachelors      M             M   60000  15650   \n",
       "2        38      486.4  Bachelors      M             M   60000  16108   \n",
       "3        38      488.5  Bachelors      M             M   60000  16172   \n",
       "4        38      486.6  Bachelors      F             S   60000  16156   \n",
       "\n",
       "   Discount  Age  \n",
       "0      2355   36  \n",
       "1      2297   36  \n",
       "2      2375   39  \n",
       "3      2391   40  \n",
       "4      2334   25  "
      ]
     },
     "execution_count": 7,
     "metadata": {},
     "output_type": "execute_result"
    }
   ],
   "source": [
    "df = df.rename({\"Sum of DiscountAmount\":\"Discount\",\"SalesQuantity\":\"Quantity\",\"YearlyIncome\":\"Income\",\"SalesAmount\":\"Sales\"},axis='columns')\n",
    "df.head()"
   ]
  },
  {
   "cell_type": "code",
   "execution_count": 8,
   "metadata": {},
   "outputs": [],
   "source": [
    "Inc = df['Income']"
   ]
  },
  {
   "cell_type": "code",
   "execution_count": 10,
   "metadata": {},
   "outputs": [
    {
     "data": {
      "text/plain": [
       "Text(0.5, 1.0, 'Histogram of Income Level')"
      ]
     },
     "execution_count": 10,
     "metadata": {},
     "output_type": "execute_result"
    },
    {
     "data": {
      "image/png": "[encoded data removed]",
      "text/plain": [
       "<Figure size 432x288 with 1 Axes>"
      ]
     },
     "metadata": {
      "needs_background": "light"
     },
     "output_type": "display_data"
    }
   ],
   "source": [
    "# Distribution of Income\n",
    "\n",
    "Inc.hist(grid=False)\n",
    "plt.xlabel(\"Number of Customers\")\n",
    "plt.ylabel(\"Level of Income\")\n",
    "plt.title(\"Histogram of Income Level\")"
   ]
  },
  {
   "cell_type": "code",
   "execution_count": 12,
   "metadata": {},
   "outputs": [],
   "source": [
    "dd = df[\"Quantity\"]"
   ]
  },
  {
   "cell_type": "code",
   "execution_count": 14,
   "metadata": {},
   "outputs": [
    {
     "data": {
      "text/plain": [
       "Text(0.5, 1.0, 'Histogram of Quantity Demanded by Customers')"
      ]
     },
     "execution_count": 14,
     "metadata": {},
     "output_type": "execute_result"
    },
    {
     "data": {
      "image/png": "[encoded data removed]",
      "text/plain": [
       "<Figure size 432x288 with 1 Axes>"
      ]
     },
     "metadata": {
      "needs_background": "light"
     },
     "output_type": "display_data"
    }
   ],
   "source": [
    "# Distribution of Quantity Demanded\n",
    "\n",
    "dd.hist(grid=False)\n",
    "plt.xlabel(\"Quantity Demanded by Customers\")\n",
    "plt.ylabel(\"Number of Customers \")\n",
    "plt.title(\"Histogram of Quantity Demanded by Customers\")"
   ]
  },
  {
   "cell_type": "code",
   "execution_count": 15,
   "metadata": {},
   "outputs": [
    {
     "data": {
      "text/plain": [
       "Text(0.5, 1.0, 'Histogram of Age of Customers')"
      ]
     },
     "execution_count": 15,
     "metadata": {},
     "output_type": "execute_result"
    },
    {
     "data": {
      "image/png": "[encoded data removed]",
      "text/plain": [
       "<Figure size 432x288 with 1 Axes>"
      ]
     },
     "metadata": {
      "needs_background": "light"
     },
     "output_type": "display_data"
    }
   ],
   "source": [
    "#Distribution of Customers Age\n",
    "\n",
    "Aged = df[\"Age\"]\n",
    "\n",
    "Aged.hist(grid=False)\n",
    "plt.xlabel(\"Age of Customers\")\n",
    "plt.ylabel(\"Number of Customers \")\n",
    "plt.title(\"Histogram of Age of Customers\")"
   ]
  },
  {
   "cell_type": "code",
   "execution_count": 16,
   "metadata": {},
   "outputs": [
    {
     "data": {
      "text/plain": [
       "Text(0.5, 1.0, 'Histogram of Customers Sales')"
      ]
     },
     "execution_count": 16,
     "metadata": {},
     "output_type": "execute_result"
    },
    {
     "data": {
      "image/png": "[encoded data removed]",
      "text/plain": [
       "<Figure size 432x288 with 1 Axes>"
      ]
     },
     "metadata": {
      "needs_background": "light"
     },
     "output_type": "display_data"
    }
   ],
   "source": [
    "#Distribution of Sales\n",
    "\n",
    "Sals = df[\"Sales\"]\n",
    "\n",
    "Sals.hist(grid=False)\n",
    "plt.xlabel(\"Total Sales\")\n",
    "plt.ylabel(\"Number of Customers \")\n",
    "plt.title(\"Histogram of Customers Sales\")"
   ]
  },
  {
   "cell_type": "code",
   "execution_count": 17,
   "metadata": {},
   "outputs": [
    {
     "data": {
      "text/plain": [
       "Text(0.5, 1.0, \"Histogram of Customers' Educational Level\")"
      ]
     },
     "execution_count": 17,
     "metadata": {},
     "output_type": "execute_result"
    },
    {
     "data": {
      "image/png": "[encoded data removed]",
      "text/plain": [
       "<Figure size 432x288 with 1 Axes>"
      ]
     },
     "metadata": {
      "needs_background": "light"
     },
     "output_type": "display_data"
    }
   ],
   "source": [
    "#Distribution of Educational Level\n",
    "\n",
    "Educ = df[\"Education\"]\n",
    "\n",
    "Educ.hist(grid=False)\n",
    "plt.xlabel(\"Educational Level\")\n",
    "plt.ylabel(\"Number of Customers \")\n",
    "plt.title(\"Histogram of Customers' Educational Level\")"
   ]
  },
  {
   "cell_type": "code",
   "execution_count": 18,
   "metadata": {},
   "outputs": [
    {
     "data": {
      "text/html": [
       "<div>\n",
       "<style scoped>\n",
       "    .dataframe tbody tr th:only-of-type {\n",
       "        vertical-align: middle;\n",
       "    }\n",
       "\n",
       "    .dataframe tbody tr th {\n",
       "        vertical-align: top;\n",
       "    }\n",
       "\n",
       "    .dataframe thead th {\n",
       "        text-align: right;\n",
       "    }\n",
       "</style>\n",
       "<table border=\"1\" class=\"dataframe\">\n",
       "  <thead>\n",
       "    <tr style=\"text-align: right;\">\n",
       "      <th></th>\n",
       "      <th>Quantity</th>\n",
       "      <th>UnitPrice</th>\n",
       "      <th>Income</th>\n",
       "      <th>Sales</th>\n",
       "      <th>Discount</th>\n",
       "      <th>Age</th>\n",
       "    </tr>\n",
       "  </thead>\n",
       "  <tbody>\n",
       "    <tr>\n",
       "      <th>count</th>\n",
       "      <td>18483.000000</td>\n",
       "      <td>18483.000000</td>\n",
       "      <td>18483.000000</td>\n",
       "      <td>18483.000000</td>\n",
       "      <td>18483.000000</td>\n",
       "      <td>18483.000000</td>\n",
       "    </tr>\n",
       "    <tr>\n",
       "      <th>mean</th>\n",
       "      <td>52.569009</td>\n",
       "      <td>324.082838</td>\n",
       "      <td>57304.009089</td>\n",
       "      <td>14110.757723</td>\n",
       "      <td>1299.443976</td>\n",
       "      <td>41.549857</td>\n",
       "    </tr>\n",
       "    <tr>\n",
       "      <th>std</th>\n",
       "      <td>23.550477</td>\n",
       "      <td>136.894157</td>\n",
       "      <td>32285.819419</td>\n",
       "      <td>6400.045086</td>\n",
       "      <td>877.636299</td>\n",
       "      <td>11.334963</td>\n",
       "    </tr>\n",
       "    <tr>\n",
       "      <th>min</th>\n",
       "      <td>30.000000</td>\n",
       "      <td>94.200000</td>\n",
       "      <td>10000.000000</td>\n",
       "      <td>2617.000000</td>\n",
       "      <td>243.000000</td>\n",
       "      <td>21.000000</td>\n",
       "    </tr>\n",
       "    <tr>\n",
       "      <th>25%</th>\n",
       "      <td>37.000000</td>\n",
       "      <td>126.300000</td>\n",
       "      <td>30000.000000</td>\n",
       "      <td>10799.000000</td>\n",
       "      <td>682.000000</td>\n",
       "      <td>33.000000</td>\n",
       "    </tr>\n",
       "    <tr>\n",
       "      <th>50%</th>\n",
       "      <td>40.000000</td>\n",
       "      <td>374.000000</td>\n",
       "      <td>60000.000000</td>\n",
       "      <td>13789.000000</td>\n",
       "      <td>933.000000</td>\n",
       "      <td>40.000000</td>\n",
       "    </tr>\n",
       "    <tr>\n",
       "      <th>75%</th>\n",
       "      <td>67.000000</td>\n",
       "      <td>404.200000</td>\n",
       "      <td>70000.000000</td>\n",
       "      <td>15986.500000</td>\n",
       "      <td>2081.000000</td>\n",
       "      <td>49.000000</td>\n",
       "    </tr>\n",
       "    <tr>\n",
       "      <th>max</th>\n",
       "      <td>127.000000</td>\n",
       "      <td>579.400000</td>\n",
       "      <td>170000.000000</td>\n",
       "      <td>32128.000000</td>\n",
       "      <td>4027.000000</td>\n",
       "      <td>94.000000</td>\n",
       "    </tr>\n",
       "  </tbody>\n",
       "</table>\n",
       "</div>"
      ],
      "text/plain": [
       "           Quantity     UnitPrice         Income         Sales      Discount  \\\n",
       "count  18483.000000  18483.000000   18483.000000  18483.000000  18483.000000   \n",
       "mean      52.569009    324.082838   57304.009089  14110.757723   1299.443976   \n",
       "std       23.550477    136.894157   32285.819419   6400.045086    877.636299   \n",
       "min       30.000000     94.200000   10000.000000   2617.000000    243.000000   \n",
       "25%       37.000000    126.300000   30000.000000  10799.000000    682.000000   \n",
       "50%       40.000000    374.000000   60000.000000  13789.000000    933.000000   \n",
       "75%       67.000000    404.200000   70000.000000  15986.500000   2081.000000   \n",
       "max      127.000000    579.400000  170000.000000  32128.000000   4027.000000   \n",
       "\n",
       "                Age  \n",
       "count  18483.000000  \n",
       "mean      41.549857  \n",
       "std       11.334963  \n",
       "min       21.000000  \n",
       "25%       33.000000  \n",
       "50%       40.000000  \n",
       "75%       49.000000  \n",
       "max       94.000000  "
      ]
     },
     "execution_count": 18,
     "metadata": {},
     "output_type": "execute_result"
    }
   ],
   "source": [
    "df.describe()"
   ]
  },
  {
   "cell_type": "code",
   "execution_count": 19,
   "metadata": {},
   "outputs": [],
   "source": [
    "# Comparing Age distribution of customers less than and greater than 45\n",
    "\n",
    "less45 = (df['Age']<45)\n",
    "over45 = (df['Age']>=45)"
   ]
  },
  {
   "cell_type": "code",
   "execution_count": 20,
   "metadata": {},
   "outputs": [],
   "source": [
    "import scipy.stats as stats"
   ]
  },
  {
   "cell_type": "code",
   "execution_count": 21,
   "metadata": {},
   "outputs": [
    {
     "data": {
      "text/html": [
       "<div>\n",
       "<style scoped>\n",
       "    .dataframe tbody tr th:only-of-type {\n",
       "        vertical-align: middle;\n",
       "    }\n",
       "\n",
       "    .dataframe tbody tr th {\n",
       "        vertical-align: top;\n",
       "    }\n",
       "\n",
       "    .dataframe thead th {\n",
       "        text-align: right;\n",
       "    }\n",
       "</style>\n",
       "<table border=\"1\" class=\"dataframe\">\n",
       "  <thead>\n",
       "    <tr style=\"text-align: right;\">\n",
       "      <th></th>\n",
       "      <th>Quantity</th>\n",
       "      <th>UnitPrice</th>\n",
       "      <th>Education</th>\n",
       "      <th>Gender</th>\n",
       "      <th>MaritalStatus</th>\n",
       "      <th>Income</th>\n",
       "      <th>Sales</th>\n",
       "      <th>Discount</th>\n",
       "      <th>Age</th>\n",
       "    </tr>\n",
       "  </thead>\n",
       "  <tbody>\n",
       "    <tr>\n",
       "      <th>0</th>\n",
       "      <td>38</td>\n",
       "      <td>480.4</td>\n",
       "      <td>Bachelors</td>\n",
       "      <td>M</td>\n",
       "      <td>S</td>\n",
       "      <td>60000</td>\n",
       "      <td>15902</td>\n",
       "      <td>2355</td>\n",
       "      <td>36</td>\n",
       "    </tr>\n",
       "    <tr>\n",
       "      <th>1</th>\n",
       "      <td>38</td>\n",
       "      <td>472.3</td>\n",
       "      <td>Bachelors</td>\n",
       "      <td>M</td>\n",
       "      <td>M</td>\n",
       "      <td>60000</td>\n",
       "      <td>15650</td>\n",
       "      <td>2297</td>\n",
       "      <td>36</td>\n",
       "    </tr>\n",
       "  </tbody>\n",
       "</table>\n",
       "</div>"
      ],
      "text/plain": [
       "   Quantity  UnitPrice  Education Gender MaritalStatus  Income  Sales  \\\n",
       "0        38      480.4  Bachelors      M             S   60000  15902   \n",
       "1        38      472.3  Bachelors      M             M   60000  15650   \n",
       "\n",
       "   Discount  Age  \n",
       "0      2355   36  \n",
       "1      2297   36  "
      ]
     },
     "execution_count": 21,
     "metadata": {},
     "output_type": "execute_result"
    }
   ],
   "source": [
    "df.head(2)"
   ]
  },
  {
   "cell_type": "code",
   "execution_count": 24,
   "metadata": {},
   "outputs": [],
   "source": [
    "from empiricaldist import Pmf"
   ]
  },
  {
   "cell_type": "code",
   "execution_count": 32,
   "metadata": {},
   "outputs": [],
   "source": [
    "# Distribution of Age by Sex of Customers"
   ]
  },
  {
   "cell_type": "code",
   "execution_count": 28,
   "metadata": {},
   "outputs": [],
   "source": [
    "age = df[\"Age\"]"
   ]
  },
  {
   "cell_type": "code",
   "execution_count": 26,
   "metadata": {},
   "outputs": [],
   "source": [
    "male = (df[\"Gender\"]==\"M\")\n",
    "female = (df['Gender']==\"F\")"
   ]
  },
  {
   "cell_type": "code",
   "execution_count": 29,
   "metadata": {},
   "outputs": [],
   "source": [
    "male_age = age[male]\n",
    "female_age = age[female]"
   ]
  },
  {
   "cell_type": "code",
   "execution_count": 31,
   "metadata": {},
   "outputs": [
    {
     "data": {
      "image/png": "[encoded data removed]",
      "text/plain": [
       "<Figure size 432x288 with 1 Axes>"
      ]
     },
     "metadata": {
      "needs_background": "light"
     },
     "output_type": "display_data"
    }
   ],
   "source": [
    "pmf_male_age = Pmf.from_seq(male_age)\n",
    "pmf_male_age.plot(label=\"Male\")\n",
    "\n",
    "pmf_female_age = Pmf.from_seq(female_age)\n",
    "pmf_female_age.plot(label=\"Female\")\n",
    "\n",
    "plt.xlabel(\"Age (years)\")\n",
    "plt.ylabel(\"PMF\")\n",
    "plt.title(\"Distribution of Age by Sex of Customers\")\n",
    "plt.legend();"
   ]
  },
  {
   "cell_type": "code",
   "execution_count": 33,
   "metadata": {},
   "outputs": [],
   "source": [
    "# Distribution of sales by Gender\n",
    "\n",
    "sales = df['Sales']\n",
    "\n",
    "male = (df[\"Gender\"]==\"M\")\n",
    "female = (df['Gender']==\"F\")"
   ]
  },
  {
   "cell_type": "code",
   "execution_count": 34,
   "metadata": {},
   "outputs": [],
   "source": [
    "male_sales = sales[male]\n",
    "female_sales = sales[female]"
   ]
  },
  {
   "cell_type": "code",
   "execution_count": 35,
   "metadata": {},
   "outputs": [
    {
     "data": {
      "image/png": "[encoded data removed]",
      "text/plain": [
       "<Figure size 432x288 with 1 Axes>"
      ]
     },
     "metadata": {
      "needs_background": "light"
     },
     "output_type": "display_data"
    }
   ],
   "source": [
    "pmf_male_sales = Pmf.from_seq(male_sales)\n",
    "pmf_male_sales.plot(label=\"Male\")\n",
    "\n",
    "pmf_female_sales = Pmf.from_seq(female_sales)\n",
    "pmf_female_sales.plot(label=\"Female\")\n",
    "\n",
    "plt.xlabel(\"Sales Revenue\")\n",
    "plt.ylabel(\"PMF\")\n",
    "plt.title(\"Distribution of Sales by Sex of Customers\")\n",
    "plt.legend();"
   ]
  },
  {
   "cell_type": "code",
   "execution_count": 37,
   "metadata": {},
   "outputs": [],
   "source": [
    "from empiricaldist import Cdf"
   ]
  },
  {
   "cell_type": "code",
   "execution_count": 38,
   "metadata": {},
   "outputs": [
    {
     "data": {
      "image/png": "[encoded data removed]",
      "text/plain": [
       "<Figure size 432x288 with 1 Axes>"
      ]
     },
     "metadata": {
      "needs_background": "light"
     },
     "output_type": "display_data"
    }
   ],
   "source": [
    "# Distribution of Sales by Gender using CDF\n",
    "\n",
    "cdf_male_sales = Cdf.from_seq(male_sales)\n",
    "cdf_male_sales.plot(label=\"Male\")\n",
    "\n",
    "cdf_female_sales = Cdf.from_seq(female_sales)\n",
    "cdf_female_sales.plot(label=\"Female\")\n",
    "\n",
    "plt.xlabel(\"Sales Revenue\")\n",
    "plt.ylabel(\"CDF\")\n",
    "plt.title(\"Distribution of Sales by Sex of Customers\")\n",
    "plt.legend();"
   ]
  },
  {
   "cell_type": "code",
   "execution_count": 41,
   "metadata": {},
   "outputs": [],
   "source": [
    "# Is normal distribution a good model for the distribution of ages in the dataset?\n",
    "\n",
    "from scipy.stats import norm\n",
    "xs = np.linspace(42,94)\n",
    "ys = norm(0,1).cdf(xs)"
   ]
  },
  {
   "cell_type": "code",
   "execution_count": 42,
   "metadata": {},
   "outputs": [],
   "source": [
    "cdf_age = Cdf.from_seq(age)"
   ]
  },
  {
   "cell_type": "code",
   "execution_count": 43,
   "metadata": {},
   "outputs": [
    {
     "data": {
      "image/png": "[encoded data removed]",
      "text/plain": [
       "<Figure size 432x288 with 1 Axes>"
      ]
     },
     "metadata": {
      "needs_background": "light"
     },
     "output_type": "display_data"
    }
   ],
   "source": [
    "plt.plot(xs,ys,color='gray',label='Normal CDF')\n",
    "cdf_age.plot(label=\"Age distribution\")\n",
    "\n",
    "plt.xlabel(\"x\")\n",
    "plt.ylabel(\"CDF\")\n",
    "plt.legend();"
   ]
  },
  {
   "cell_type": "code",
   "execution_count": 55,
   "metadata": {},
   "outputs": [
    {
     "data": {
      "image/png": "[encoded data removed]",
      "text/plain": [
       "<Figure size 432x288 with 1 Axes>"
      ]
     },
     "metadata": {
      "needs_background": "light"
     },
     "output_type": "display_data"
    }
   ],
   "source": [
    "# Scatter plot of Quantity vs price of the commodity\n",
    "\n",
    "\n",
    "plt.scatter(df[\"Quantity\"], df['UnitPrice'])\n",
    "plt.show()"
   ]
  },
  {
   "cell_type": "code",
   "execution_count": 58,
   "metadata": {},
   "outputs": [
    {
     "data": {
      "image/png": "[encoded data removed]",
      "text/plain": [
       "<Figure size 432x288 with 1 Axes>"
      ]
     },
     "metadata": {
      "needs_background": "light"
     },
     "output_type": "display_data"
    }
   ],
   "source": [
    "plt.scatter(df[\"Quantity\"], df['UnitPrice'], alpha=0.5)\n",
    "plt.title('Quantity demanded and price')\n",
    "plt.xlabel('Qauantity')\n",
    "plt.ylabel('Price')\n",
    "plt.show()"
   ]
  },
  {
   "cell_type": "code",
   "execution_count": 59,
   "metadata": {},
   "outputs": [
    {
     "data": {
      "image/png": "[encoded data removed]",
      "text/plain": [
       "<Figure size 432x288 with 1 Axes>"
      ]
     },
     "metadata": {
      "needs_background": "light"
     },
     "output_type": "display_data"
    }
   ],
   "source": [
    "# Scatter plot of Quantity vs Income of the consumer\n",
    "\n",
    "plt.scatter(df[\"Quantity\"], df['Income'], alpha=0.5)\n",
    "plt.title('Quantity demanded and Consumer Income')\n",
    "plt.xlabel('Qauantity')\n",
    "plt.ylabel('Income')\n",
    "plt.show()\n"
   ]
  },
  {
   "cell_type": "code",
   "execution_count": 60,
   "metadata": {},
   "outputs": [],
   "source": [
    "#  Demand seems to trend downwards indicating lower demand with higher income"
   ]
  },
  {
   "cell_type": "code",
   "execution_count": 61,
   "metadata": {},
   "outputs": [
    {
     "name": "stdout",
     "output_type": "stream",
     "text": [
      "           Quantity  UnitPrice    Income     Sales  Discount       Age\n",
      "Quantity   1.000000  -0.496735 -0.139909  0.270648  0.300623  0.019692\n",
      "UnitPrice -0.496735   1.000000  0.602715  0.613292  0.462454  0.069300\n",
      "Income    -0.139909   0.602715  1.000000  0.581610  0.471369  0.158343\n",
      "Sales      0.270648   0.613292  0.581610  1.000000  0.809422  0.106665\n",
      "Discount   0.300623   0.462454  0.471369  0.809422  1.000000  0.035138\n",
      "Age        0.019692   0.069300  0.158343  0.106665  0.035138  1.000000\n"
     ]
    }
   ],
   "source": [
    "# Obtain the correlation matrix\n",
    "\n",
    "corrMatrix = df.corr()\n",
    "print (corrMatrix)"
   ]
  },
  {
   "cell_type": "code",
   "execution_count": 63,
   "metadata": {},
   "outputs": [
    {
     "name": "stdout",
     "output_type": "stream",
     "text": [
      "Test statistic is -202.252583\n",
      "p-value for one_tailed_test is 0.000000\n",
      "Conclusion n Since p-value(=0.000000) < alpha(=0.05) We reject the null hypothesis H0. \n",
      "\n",
      "So we conclude that Income has effect on sales. i.e., d = 0 at 0.05 level of significance.\n"
     ]
    }
   ],
   "source": [
    "alpha = 0.05\n",
    "\n",
    "t_value,p_value=stats.ttest_rel(df['Sales'],df['Income'])\n",
    "\n",
    "one_tailed_p_value=float(\"{:.6f}\".format(p_value/2)) \n",
    "\n",
    "print('Test statistic is %f'%float(\"{:.6f}\".format(t_value)))\n",
    "\n",
    "print('p-value for one_tailed_test is %f'%one_tailed_p_value)\n",
    "\n",
    "alpha = 0.05\n",
    "\n",
    "if one_tailed_p_value<=alpha:\n",
    "\n",
    "    print('Conclusion','n','Since p-value(=%f)'%one_tailed_p_value,'<','alpha(=%.2f)'%alpha,'''We reject the null hypothesis H0. \n",
    "\n",
    "So we conclude that Income has effect on sales. i.e., d = 0 at %.2f level of significance.'''%alpha)\n",
    "\n",
    "else:\n",
    "\n",
    "    print('Conclusion','n','Since p-value(=%f)'%one_tailed_p_value,'>','alpha(=%.2f)'%alpha,'''We do not reject the null hypothesis H0. \n",
    "\n",
    "So we conclude that income has no effect on sales. i.e., d = 0 at %.2f level of significance.'''%alpha)\n"
   ]
  },
  {
   "cell_type": "code",
   "execution_count": 64,
   "metadata": {},
   "outputs": [],
   "source": [
    "\n",
    "from scipy.stats.mstats import zscore"
   ]
  },
  {
   "cell_type": "code",
   "execution_count": 67,
   "metadata": {},
   "outputs": [],
   "source": [
    "reg1 = smf.ols(\"np.log(Sales) ~ np.log(UnitPrice) + np.log(Income) + np.log(Age) + Gender + Education + np.log(Discount) + MaritalStatus\",data=df).fit(cov_type=\"HC3\")"
   ]
  },
  {
   "cell_type": "code",
   "execution_count": 68,
   "metadata": {},
   "outputs": [],
   "source": [
    "reg2 = smf.ols(\"np.log(Quantity) ~ np.log(UnitPrice) + np.log(Income) + np.log(Age) + Gender + Education + np.log(Discount) + MaritalStatus\",data=df).fit(cov_type=\"HC3\")"
   ]
  },
  {
   "cell_type": "code",
   "execution_count": 69,
   "metadata": {},
   "outputs": [],
   "source": [
    "from stargazer.stargazer import Stargazer"
   ]
  },
  {
   "cell_type": "code",
   "execution_count": 70,
   "metadata": {},
   "outputs": [
    {
     "data": {
      "text/html": [
       "<table style=\"text-align:center\"><tr><td colspan=\"3\" style=\"border-bottom: 1px solid black\"></td></tr><tr><td style=\"text-align:left\"></td><tr><td style=\"text-align:left\"></td><td>(1)</td><td>(2)</td></tr><tr><td colspan=\"3\" style=\"border-bottom: 1px solid black\"></td></tr><tr><td style=\"text-align:left\">Education[T.Graduate Degree]</td><td>0.056<sup>***</sup></td><td>0.050<sup>***</sup></td></tr><tr><td style=\"text-align:left\"></td><td>(0.005)</td><td>(0.004)</td></tr><tr><td style=\"text-align:left\">Education[T.High School]</td><td>0.115<sup>***</sup></td><td>0.105<sup>***</sup></td></tr><tr><td style=\"text-align:left\"></td><td>(0.005)</td><td>(0.005)</td></tr><tr><td style=\"text-align:left\">Education[T.Partial College]</td><td>0.033<sup>***</sup></td><td>0.029<sup>***</sup></td></tr><tr><td style=\"text-align:left\"></td><td>(0.004)</td><td>(0.004)</td></tr><tr><td style=\"text-align:left\">Education[T.Partial High School]</td><td>0.123<sup>***</sup></td><td>0.113<sup>***</sup></td></tr><tr><td style=\"text-align:left\"></td><td>(0.007)</td><td>(0.007)</td></tr><tr><td style=\"text-align:left\">Gender[T.M]</td><td>-0.002<sup></sup></td><td>-0.003<sup></sup></td></tr><tr><td style=\"text-align:left\"></td><td>(0.003)</td><td>(0.003)</td></tr><tr><td style=\"text-align:left\">Intercept</td><td>3.518<sup>***</sup></td><td>3.544<sup>***</sup></td></tr><tr><td style=\"text-align:left\"></td><td>(0.034)</td><td>(0.031)</td></tr><tr><td style=\"text-align:left\">MaritalStatus[T.S]</td><td>-0.043<sup>***</sup></td><td>-0.040<sup>***</sup></td></tr><tr><td style=\"text-align:left\"></td><td>(0.003)</td><td>(0.003)</td></tr><tr><td style=\"text-align:left\">np.log(Age)</td><td>0.038<sup>***</sup></td><td>0.035<sup>***</sup></td></tr><tr><td style=\"text-align:left\"></td><td>(0.007)</td><td>(0.006)</td></tr><tr><td style=\"text-align:left\">np.log(Discount)</td><td>0.331<sup>***</sup></td><td>0.382<sup>***</sup></td></tr><tr><td style=\"text-align:left\"></td><td>(0.003)</td><td>(0.003)</td></tr><tr><td style=\"text-align:left\">np.log(Income)</td><td>0.125<sup>***</sup></td><td>0.116<sup>***</sup></td></tr><tr><td style=\"text-align:left\"></td><td>(0.004)</td><td>(0.004)</td></tr><tr><td style=\"text-align:left\">np.log(UnitPrice)</td><td>0.373<sup>***</sup></td><td>-0.658<sup>***</sup></td></tr><tr><td style=\"text-align:left\"></td><td>(0.006)</td><td>(0.005)</td></tr><td colspan=\"3\" style=\"border-bottom: 1px solid black\"></td></tr><tr><td style=\"text-align: left\">Observations</td><td>18,483</td><td>18,483</td></tr><tr><td style=\"text-align: left\">R<sup>2</sup></td><td>0.778</td><td>0.689</td></tr><tr><td style=\"text-align: left\">Adjusted R<sup>2</sup></td><td>0.778</td><td>0.689</td></tr><tr><td style=\"text-align: left\">Residual Std. Error</td><td>0.228 (df=18472)</td><td>0.209 (df=18472)</td></tr><tr><td style=\"text-align: left\">F Statistic</td><td>6750.432<sup>***</sup> (df=10; 18472)</td><td>3656.322<sup>***</sup> (df=10; 18472)</td></tr><tr><td colspan=\"3\" style=\"border-bottom: 1px solid black\"></td></tr><tr><td style=\"text-align: left\">Note:</td>\n",
       " <td colspan=\"2\" style=\"text-align: right\">\n",
       "  <sup>*</sup>p&lt;0.1;\n",
       "  <sup>**</sup>p&lt;0.05;\n",
       "  <sup>***</sup>p&lt;0.01\n",
       " </td></tr></table>"
      ],
      "text/plain": [
       "<IPython.core.display.HTML object>"
      ]
     },
     "execution_count": 70,
     "metadata": {},
     "output_type": "execute_result"
    }
   ],
   "source": [
    "stargazer = Stargazer([reg1,reg2])\n",
    "HTML(stargazer.render_html())"
   ]
  },
  {
   "cell_type": "code",
   "execution_count": null,
   "metadata": {},
   "outputs": [],
   "source": []
  }
 ],
 "metadata": {
  "kernelspec": {
   "display_name": "Python 3",
   "language": "python",
   "name": "python3"
  },
  "language_info": {
   "codemirror_mode": {
    "name": "ipython",
    "version": 3
   },
   "file_extension": ".py",
   "mimetype": "text/x-python",
   "name": "python",
   "nbconvert_exporter": "python",
   "pygments_lexer": "ipython3",
   "version": "3.7.3"
  }
 },
 "nbformat": 4,
 "nbformat_minor": 2
}
